{
 "cells": [
  {
   "cell_type": "markdown",
   "metadata": {},
   "source": [
    "# Mean Normalization\n",
    "\n",
    "In machine learning we use large amounts of data to train our models. Some machine learning algorithms may require that the data is *normalized* in order to work correctly. The idea of normalization, also known as *feature scaling*, is to ensure that all the data is on a similar scale, *i.e.* that all the data takes on a similar range of values. For example, we might have a dataset that has values between 0 and 5,000. By normalizing the data we can make the range of values be between 0 and 1.\n",
    "\n",
    "In this lab, you will be performing a different kind of feature scaling known as *mean normalization*. Mean normalization will scale the data, but instead of making the values be between 0 and 1, it will distribute the values evenly in some small interval around zero. For example, if we have a dataset that has values between 0 and 5,000, after mean normalization the range of values will be distributed in some small range around 0, for example between -3 to 3. Because the range of values are distributed evenly around zero, this guarantees that the average (mean) of all elements will be zero. Therefore, when you perform *mean normalization* your data will not only be scaled but it will also have an average of zero. \n",
    "\n",
    "# To Do:\n",
    "\n",
    "You will start by importing NumPy and creating a rank 2 ndarray of random integers between 0 and 5,000 (inclusive) with 1000 rows and 20 columns. This array will simulate a dataset with a wide range of values. Fill in the code below"
   ]
  },
  {
   "cell_type": "code",
   "execution_count": 2,
   "metadata": {},
   "outputs": [
    {
     "name": "stderr",
     "output_type": "stream",
     "text": [
      "/opt/conda/lib/python3.6/site-packages/ipykernel_launcher.py:5: DeprecationWarning: This function is deprecated. Please call randint(0, 5000 + 1) instead\n",
      "  \"\"\"\n"
     ]
    },
    {
     "data": {
      "text/plain": [
       "(1000, 20)"
      ]
     },
     "execution_count": 2,
     "metadata": {},
     "output_type": "execute_result"
    }
   ],
   "source": [
    "# import NumPy into Python\n",
    "import numpy as np\n",
    "\n",
    "# Create a 1000 x 20 ndarray with random integers in the half-open interval [0, 5001).\n",
    "X = np.random.random_integers(0, 5000, size=(1000,20))\n",
    "\n",
    "# print the shape of X\n",
    "X.shape"
   ]
  },
  {
   "cell_type": "markdown",
   "metadata": {},
   "source": [
    "Now that you created the array we will mean normalize it. We will perform mean normalization using the following equation:\n",
    "\n",
    "$\\mbox{Norm_Col}_i = \\frac{\\mbox{Col}_i - \\mu_i}{\\sigma_i}$\n",
    "\n",
    "where $\\mbox{Col}_i$ is the $i$th column of $X$, $\\mu_i$ is average of the values in the $i$th column of $X$, and $\\sigma_i$ is the standard deviation of the values in the $i$th column of $X$. In other words, mean normalization is performed by subtracting from each column of $X$ the average of its values, and then by dividing by the standard deviation of its values. In the space below, you will first calculate the average and standard deviation of each column of $X$. "
   ]
  },
  {
   "cell_type": "code",
   "execution_count": 7,
   "metadata": {},
   "outputs": [],
   "source": [
    "# Average of the values in each column of X\n",
    "ave_cols = np.mean(X, axis=0)\n",
    "\n",
    "# Standard Deviation of the values in each column of X\n",
    "std_cols = np.std(X, axis=0)"
   ]
  },
  {
   "cell_type": "markdown",
   "metadata": {},
   "source": [
    "If you have done the above calculations correctly, then `ave_cols` and `std_cols`, should both be vectors with shape `(20,)` since $X$ has 20 columns. You can verify this by filling the code below:"
   ]
  },
  {
   "cell_type": "code",
   "execution_count": 9,
   "metadata": {},
   "outputs": [
    {
     "name": "stdout",
     "output_type": "stream",
     "text": [
      "(20,)\n",
      "(20,)\n"
     ]
    }
   ],
   "source": [
    "# Print the shape of ave_cols\n",
    "print(ave_cols.shape)\n",
    "\n",
    "# Print the shape of std_cols\n",
    "print(std_cols.shape)"
   ]
  },
  {
   "cell_type": "markdown",
   "metadata": {},
   "source": [
    "You can now take advantage of Broadcasting to calculate the mean normalized version of $X$ in just one line of code using the equation above. Fill in the code below"
   ]
  },
  {
   "cell_type": "code",
   "execution_count": 17,
   "metadata": {},
   "outputs": [
    {
     "name": "stdout",
     "output_type": "stream",
     "text": [
      "[[ 408 3560 3317 ...,  256 1014 3871]\n",
      " [3726  667 4229 ...,  570 2481 3014]\n",
      " [1408 2243 3476 ..., 4444 3862  602]\n",
      " ..., \n",
      " [4385 3268 2854 ..., 1387  926 2650]\n",
      " [4828 4652 3770 ..., 1633 4262  234]\n",
      " [2383 2652 4713 ..., 3566  996 3232]]\n",
      "\n",
      "(1000, 20)\n"
     ]
    }
   ],
   "source": [
    "# Mean normalize X\n",
    "X_norm = (X - ave_cols)/std_cols\n",
    "print(X)\n",
    "print()\n",
    "print(X.shape)"
   ]
  },
  {
   "cell_type": "markdown",
   "metadata": {},
   "source": [
    "If you have performed the mean normalization correctly, then the average of all the elements in $X_{\\tiny{\\mbox{norm}}}$ should be close to zero, and they should be evenly distributed in some small interval around zero. You can verify this by filing the code below:"
   ]
  },
  {
   "cell_type": "code",
   "execution_count": 11,
   "metadata": {},
   "outputs": [
    {
     "name": "stdout",
     "output_type": "stream",
     "text": [
      "-3.33955085807e-17\n",
      "-1.71509803181\n",
      "1.73378034709\n"
     ]
    }
   ],
   "source": [
    "# Print the average of all the values of X_norm\n",
    "print(X_norm.mean())\n",
    "\n",
    "# Print the average of the minimum value in each column of X_norm\n",
    "print(X_norm.min(axis=0).mean())\n",
    "\n",
    "# Print the average of the maximum value in each column of X_norm\n",
    "print(X_norm.max(axis=0).mean())"
   ]
  },
  {
   "cell_type": "markdown",
   "metadata": {},
   "source": [
    "You should note that since $X$ was created using random integers, the above values will vary. \n",
    "\n",
    "# Data Separation\n",
    "\n",
    "After the data has been mean normalized, it is customary in machine learnig to split our dataset into three sets:\n",
    "\n",
    "1. A Training Set\n",
    "2. A Cross Validation Set\n",
    "3. A Test Set\n",
    "\n",
    "The dataset is usually divided such that the Training Set contains 60% of the data, the Cross Validation Set contains 20% of the data, and the Test Set contains 20% of the data. \n",
    "\n",
    "In this part of the lab you will separate `X_norm` into a Training Set, Cross Validation Set, and a Test Set. Each data set will contain rows of `X_norm` chosen at random, making sure that we don't pick the same row twice. This will guarantee that all the rows of `X_norm` are chosen and randomly distributed among the three new sets.\n",
    "\n",
    "You will start by creating a rank 1 ndarray that contains a random permutation of the row indices of `X_norm`. You can do this by using the `np.random.permutation()` function. The `np.random.permutation(N)` function creates a random permutation of integers from 0 to `N - 1`. Let's see an example:"
   ]
  },
  {
   "cell_type": "code",
   "execution_count": 14,
   "metadata": {},
   "outputs": [
    {
     "data": {
      "text/plain": [
       "array([4, 2, 1, 0, 3])"
      ]
     },
     "execution_count": 14,
     "metadata": {},
     "output_type": "execute_result"
    }
   ],
   "source": [
    "# We create a random permutation of integers 0 to 4\n",
    "np.random.permutation(5)"
   ]
  },
  {
   "cell_type": "markdown",
   "metadata": {},
   "source": [
    "# To Do\n",
    "\n",
    "In the space below create a rank 1 ndarray that contains a random permutation of the row indices of `X_norm`. You can do this in one line of code by extracting the number of rows of `X_norm` using the `shape` attribute and then passing it to the  `np.random.permutation()` function. Remember the `shape` attribute returns a tuple with two numbers in the form `(rows,columns)`."
   ]
  },
  {
   "cell_type": "code",
   "execution_count": 20,
   "metadata": {},
   "outputs": [
    {
     "data": {
      "text/plain": [
       "array([ 64, 490, 677, 643,  69, 604, 654, 884, 149, 781, 765, 131, 600,\n",
       "        85, 832, 406, 483, 378, 903, 353, 160, 997, 782, 190, 926, 571,\n",
       "       844, 286, 898, 888, 656, 576, 513, 126, 511, 880,  74, 514, 362,\n",
       "       450, 306, 662, 896, 549, 486, 320, 846,  20, 575, 225, 565, 740,\n",
       "       954, 827, 428, 229,  84,  37,   0, 696, 507, 495, 181, 905, 554,\n",
       "       964, 300,  43, 608, 757, 112, 222, 812, 718, 329, 633, 951, 942,\n",
       "       620, 356, 590, 299, 991,  82, 588, 596, 186, 848,  26, 955, 953,\n",
       "       113, 745, 768, 537, 473, 330, 162, 755, 775, 226, 996, 610, 937,\n",
       "        27, 986, 617, 625, 384,  99, 820, 478, 106, 648,   9, 931,  96,\n",
       "         5, 860, 125, 312, 359, 969, 455, 928, 672, 587, 685, 741, 938,\n",
       "       747, 366, 863, 243, 237, 348, 975, 367, 702, 323, 917, 150, 843,\n",
       "       426, 224, 364, 184, 465, 128, 989, 520, 967,  11, 686, 727, 833,\n",
       "       172, 923, 681, 735,  57, 242, 122, 236, 792, 294, 574, 103, 253,\n",
       "       603, 714, 546, 935, 266, 733, 215, 916, 658, 759, 214, 730, 394,\n",
       "       179, 541, 886, 284, 713, 922, 529, 437, 430, 961, 141, 736, 198,\n",
       "       749, 117, 638, 195, 155, 153, 842, 271, 560, 788, 635, 107, 400,\n",
       "       304, 337, 912, 388, 424, 616, 199, 784,   4, 737, 766, 779,  38,\n",
       "       527, 255, 352,   2, 791, 461, 704, 425,  88,  76, 649, 939, 421,\n",
       "       660, 682, 408, 623,   6,  21,  14, 929, 857, 372, 499, 496, 234,\n",
       "       913, 414, 865, 637,  61, 336, 401, 138, 219, 885,  40, 438, 547,\n",
       "       506, 568, 932,  35, 467, 275, 668, 524, 687, 102, 799, 767, 433,\n",
       "       831, 159, 772, 165,  68, 328, 278, 671, 858, 501, 887, 647,  70,\n",
       "       487, 354, 171,   3, 182, 308,  32, 462,  42,  58, 977, 627, 189,\n",
       "       135, 605, 742, 665, 700, 836, 818, 338, 830, 794, 339, 769, 552,\n",
       "       750, 321, 287, 934, 694, 653, 392, 626, 445, 666, 999, 706,  22,\n",
       "       446, 651, 291, 427, 869, 397,  31, 634,  39,  15, 579, 357,  28,\n",
       "       957, 254, 183, 484, 807, 890, 972, 124, 443, 870, 797, 667, 533,\n",
       "       868, 907, 669, 283, 661, 129, 673, 301, 376,  12, 919, 413, 311,\n",
       "       449, 578, 770, 418, 715, 217, 460, 368, 380, 374, 632, 963, 760,\n",
       "       941,  51, 966, 420, 679, 693, 732, 895, 569, 344, 391, 347, 464,\n",
       "       240, 218, 431, 396, 466, 944, 703, 756, 163, 819, 823, 761, 194,\n",
       "       572,  24, 906, 274, 601, 553, 566, 952, 594, 609, 519, 526, 247,\n",
       "       148, 489, 790, 315, 971, 416, 249, 618, 663, 613, 166, 712, 399,\n",
       "        97, 395, 891, 678, 758, 636, 410, 156, 398, 882, 867, 232, 331,\n",
       "       871, 940, 534, 650,  30, 505, 176, 810, 946, 862,  77, 316,  89,\n",
       "        83, 795, 168, 268, 899,  87, 585, 256, 645,  36, 500, 442, 921,\n",
       "       803, 381, 859, 980, 670, 411, 435, 897, 459, 472, 502, 838, 105,\n",
       "       517, 690,  52, 116, 583, 683, 837, 950, 901, 543, 272, 471, 918,\n",
       "       883, 631, 228, 802, 193, 146, 175, 854, 221, 612, 480, 724, 581,\n",
       "       263, 875, 386, 238, 531, 481,  91, 841, 949, 373, 258, 245, 728,\n",
       "       988,  23,  80, 764, 821, 289, 151, 717, 725, 974, 515, 614, 152,\n",
       "       351, 360, 856, 444, 855, 874, 264, 900, 602, 962,  67, 699, 493,\n",
       "       584, 536, 968, 509, 140, 114, 876,  33, 296, 532, 644, 167, 611,\n",
       "       960, 142, 721, 325, 349, 479, 197, 825, 456, 211, 754, 979, 307,\n",
       "       535, 580, 434, 629, 385, 621, 510, 866, 257, 787, 561, 973, 723,\n",
       "       407, 192, 177, 318, 786, 375, 817,  41, 984, 861, 562, 512, 789,\n",
       "       774, 390, 878, 746, 915, 978,  48, 993, 780, 298, 659, 370, 801,\n",
       "       555, 762, 675, 664,  55, 640, 904, 570, 154, 985, 417, 387, 708,\n",
       "       729, 288, 816, 452, 800, 273, 994, 157, 403, 826,  72, 292, 710,\n",
       "       439,  79, 188, 164, 753, 911, 544, 244, 557, 743, 591, 469, 522,\n",
       "       290, 881, 550, 582, 709,  94, 220, 174,  44, 624, 134, 310, 990,\n",
       "       814, 987,  78, 551, 436, 835, 521, 763,  10, 474, 101, 563, 893,\n",
       "       208, 910, 187, 158, 389, 744, 508, 475, 834,  34, 313, 491, 448,\n",
       "       924, 185, 341, 847, 641, 317,  46, 776, 492, 123, 793, 705, 595,\n",
       "       720, 223, 209, 849, 845, 282, 423, 548, 674, 468, 707, 259, 518,\n",
       "        60, 711,  65, 309, 503, 680, 269, 586, 959, 902, 196, 276, 118,\n",
       "       889,  45, 441, 927, 701, 497, 297, 731, 559, 212, 943,   7, 119,\n",
       "       405,  17, 451,  95,  59, 646,   1, 771, 698, 909, 132, 350, 852,\n",
       "       494, 393, 877, 371, 692, 894, 748, 873, 201, 115, 145, 783, 485,\n",
       "        66, 422, 778, 751, 130, 216, 655, 976, 982, 804, 104, 319,  81,\n",
       "       815, 970, 482, 695, 498, 332, 853, 992, 925, 488, 726, 525, 137,\n",
       "       206, 202, 231, 577, 261, 829, 382,  47, 457, 785,  49, 110, 458,\n",
       "       203, 716, 143, 303, 346,  86, 540, 965, 597, 956, 691, 262, 324,\n",
       "       872, 295, 302, 409,  53, 995, 326, 998, 796, 241, 173, 358, 345,\n",
       "       828, 239, 191, 334, 144, 333, 811, 639, 739, 809, 652,  93, 538,\n",
       "       415, 947, 432, 250, 734, 920, 248, 892, 161, 377, 279, 930, 404,\n",
       "       402, 697, 213, 383, 558, 235, 281,  73, 109,  63, 477, 530, 322,\n",
       "       204, 365, 293, 983, 305,   8, 180, 504, 516, 738, 419, 589,  98,\n",
       "        18, 127, 260, 813, 607,  29, 808, 981, 752, 267, 556, 564, 851,\n",
       "       542, 593, 335,  25,  92,  62, 676, 805, 147, 327, 945, 270, 528,\n",
       "        56, 689, 523, 379, 139, 864, 573, 470, 100, 252, 200,  13, 136,\n",
       "       342,  19, 412, 120, 447, 606, 642, 355, 567, 936, 598, 879, 719,\n",
       "       280,  16, 914, 806,  90, 933, 822, 688, 657, 599, 230, 545, 824,\n",
       "       619, 628, 170, 111, 773, 684, 476, 463, 840, 233, 133, 850, 210,\n",
       "       453, 440, 343,  71, 539, 169, 369, 285, 622, 798, 958, 121, 777,\n",
       "       454, 839, 207, 178, 227, 363, 340,  54, 908, 277, 592, 265, 108,\n",
       "       722, 429, 948, 361,  50, 205, 251, 630, 615, 314,  75, 246])"
      ]
     },
     "execution_count": 20,
     "metadata": {},
     "output_type": "execute_result"
    }
   ],
   "source": [
    "# Create a rank 1 ndarray that contains a random permutation of the row indices of `X_norm`\n",
    "row_indices = np.random.permutation(X.shape[0])\n",
    "row_indices"
   ]
  },
  {
   "cell_type": "markdown",
   "metadata": {},
   "source": [
    "Now you can create the three datasets using the `row_indices` ndarray to select the rows that will go into each dataset. Rememeber that the Training Set contains 60% of the data, the Cross Validation Set contains 20% of the data, and the Test Set contains 20% of the data. Each set requires just one line of code to create. Fill in the code below"
   ]
  },
  {
   "cell_type": "code",
   "execution_count": null,
   "metadata": {},
   "outputs": [],
   "source": [
    "# Make any necessary calculations.\n",
    "# You can save your calculations into variables to use later.\n",
    "\n",
    "\n",
    "# Create a Training Set\n",
    "X_train =\n",
    "\n",
    "# Create a Cross Validation Set\n",
    "X_crossVal =\n",
    "\n",
    "# Create a Test Set\n",
    "X_test ="
   ]
  },
  {
   "cell_type": "markdown",
   "metadata": {},
   "source": [
    "If you performed the above calculations correctly, then `X_tain` should have 600 rows and 20 columns, `X_crossVal` should have 200 rows and 20 columns, and `X_test` should have 200 rows and 20 columns. You can verify this by filling the code below:"
   ]
  },
  {
   "cell_type": "code",
   "execution_count": null,
   "metadata": {},
   "outputs": [],
   "source": [
    "# Print the shape of X_train\n",
    "\n",
    "\n",
    "# Print the shape of X_crossVal\n",
    "\n",
    "\n",
    "# Print the shape of X_test\n"
   ]
  },
  {
   "cell_type": "code",
   "execution_count": null,
   "metadata": {},
   "outputs": [],
   "source": []
  }
 ],
 "metadata": {
  "kernelspec": {
   "display_name": "Python 3",
   "language": "python",
   "name": "python3"
  },
  "language_info": {
   "codemirror_mode": {
    "name": "ipython",
    "version": 3
   },
   "file_extension": ".py",
   "mimetype": "text/x-python",
   "name": "python",
   "nbconvert_exporter": "python",
   "pygments_lexer": "ipython3",
   "version": "3.6.3"
  }
 },
 "nbformat": 4,
 "nbformat_minor": 2
}
